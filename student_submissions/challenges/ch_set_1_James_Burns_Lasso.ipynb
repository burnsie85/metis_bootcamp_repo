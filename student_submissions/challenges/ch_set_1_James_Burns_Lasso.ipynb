{
 "cells": [
  {
   "cell_type": "markdown",
   "metadata": {},
   "source": [
    "Topic:        Challenge Set 1\n",
    "Subject:      Explore MTA turnstile data\n",
    "Date:         09/27/2020\n",
    "Name:         James Burns\n",
    "Worked with:  Jonathan Cosme\n",
    "Location:     onl20_ds4/student_submissions/challenges/01-mta/james_burns/ch_set_1_James_Burns_Lasso.ipynb"
   ]
  },
  {
   "cell_type": "code",
   "execution_count": 1,
   "metadata": {},
   "outputs": [
    {
     "name": "stdout",
     "output_type": "stream",
     "text": [
      "Python Version: 3.8.5 (default, Sep  4 2020, 02:22:02) \n",
      "[Clang 10.0.0 ]\n"
     ]
    }
   ],
   "source": [
    "import sys\n",
    "print(\"Python Version:\", sys.version)"
   ]
  },
  {
   "cell_type": "markdown",
   "metadata": {},
   "source": [
    "### Challenge 1"
   ]
  },
  {
   "cell_type": "code",
   "execution_count": 2,
   "metadata": {},
   "outputs": [],
   "source": [
    "import pandas as pd"
   ]
  },
  {
   "cell_type": "code",
   "execution_count": 7,
   "metadata": {},
   "outputs": [
    {
     "data": {
      "text/html": [
       "<div>\n",
       "<style scoped>\n",
       "    .dataframe tbody tr th:only-of-type {\n",
       "        vertical-align: middle;\n",
       "    }\n",
       "\n",
       "    .dataframe tbody tr th {\n",
       "        vertical-align: top;\n",
       "    }\n",
       "\n",
       "    .dataframe thead th {\n",
       "        text-align: right;\n",
       "    }\n",
       "</style>\n",
       "<table border=\"1\" class=\"dataframe\">\n",
       "  <thead>\n",
       "    <tr style=\"text-align: right;\">\n",
       "      <th></th>\n",
       "      <th>C/A</th>\n",
       "      <th>UNIT</th>\n",
       "      <th>SCP</th>\n",
       "      <th>STATION</th>\n",
       "      <th>LINENAME</th>\n",
       "      <th>DIVISION</th>\n",
       "      <th>DATE</th>\n",
       "      <th>TIME</th>\n",
       "      <th>DESC</th>\n",
       "      <th>ENTRIES</th>\n",
       "      <th>EXITS</th>\n",
       "    </tr>\n",
       "  </thead>\n",
       "  <tbody>\n",
       "    <tr>\n",
       "      <th>0</th>\n",
       "      <td>A002</td>\n",
       "      <td>R051</td>\n",
       "      <td>02-00-00</td>\n",
       "      <td>59 ST</td>\n",
       "      <td>NQR456W</td>\n",
       "      <td>BMT</td>\n",
       "      <td>08/31/2019</td>\n",
       "      <td>00:00:00</td>\n",
       "      <td>REGULAR</td>\n",
       "      <td>7183242</td>\n",
       "      <td>2433142</td>\n",
       "    </tr>\n",
       "    <tr>\n",
       "      <th>1</th>\n",
       "      <td>A002</td>\n",
       "      <td>R051</td>\n",
       "      <td>02-00-00</td>\n",
       "      <td>59 ST</td>\n",
       "      <td>NQR456W</td>\n",
       "      <td>BMT</td>\n",
       "      <td>08/31/2019</td>\n",
       "      <td>04:00:00</td>\n",
       "      <td>REGULAR</td>\n",
       "      <td>7183258</td>\n",
       "      <td>2433149</td>\n",
       "    </tr>\n",
       "    <tr>\n",
       "      <th>2</th>\n",
       "      <td>A002</td>\n",
       "      <td>R051</td>\n",
       "      <td>02-00-00</td>\n",
       "      <td>59 ST</td>\n",
       "      <td>NQR456W</td>\n",
       "      <td>BMT</td>\n",
       "      <td>08/31/2019</td>\n",
       "      <td>08:00:00</td>\n",
       "      <td>REGULAR</td>\n",
       "      <td>7183278</td>\n",
       "      <td>2433176</td>\n",
       "    </tr>\n",
       "    <tr>\n",
       "      <th>3</th>\n",
       "      <td>A002</td>\n",
       "      <td>R051</td>\n",
       "      <td>02-00-00</td>\n",
       "      <td>59 ST</td>\n",
       "      <td>NQR456W</td>\n",
       "      <td>BMT</td>\n",
       "      <td>08/31/2019</td>\n",
       "      <td>12:00:00</td>\n",
       "      <td>REGULAR</td>\n",
       "      <td>7183393</td>\n",
       "      <td>2433262</td>\n",
       "    </tr>\n",
       "    <tr>\n",
       "      <th>4</th>\n",
       "      <td>A002</td>\n",
       "      <td>R051</td>\n",
       "      <td>02-00-00</td>\n",
       "      <td>59 ST</td>\n",
       "      <td>NQR456W</td>\n",
       "      <td>BMT</td>\n",
       "      <td>08/31/2019</td>\n",
       "      <td>16:00:00</td>\n",
       "      <td>REGULAR</td>\n",
       "      <td>7183572</td>\n",
       "      <td>2433312</td>\n",
       "    </tr>\n",
       "  </tbody>\n",
       "</table>\n",
       "</div>"
      ],
      "text/plain": [
       "    C/A  UNIT       SCP STATION LINENAME DIVISION        DATE      TIME  \\\n",
       "0  A002  R051  02-00-00   59 ST  NQR456W      BMT  08/31/2019  00:00:00   \n",
       "1  A002  R051  02-00-00   59 ST  NQR456W      BMT  08/31/2019  04:00:00   \n",
       "2  A002  R051  02-00-00   59 ST  NQR456W      BMT  08/31/2019  08:00:00   \n",
       "3  A002  R051  02-00-00   59 ST  NQR456W      BMT  08/31/2019  12:00:00   \n",
       "4  A002  R051  02-00-00   59 ST  NQR456W      BMT  08/31/2019  16:00:00   \n",
       "\n",
       "      DESC  ENTRIES  \\\n",
       "0  REGULAR  7183242   \n",
       "1  REGULAR  7183258   \n",
       "2  REGULAR  7183278   \n",
       "3  REGULAR  7183393   \n",
       "4  REGULAR  7183572   \n",
       "\n",
       "   EXITS                                                                 \n",
       "0                                            2433142                     \n",
       "1                                            2433149                     \n",
       "2                                            2433176                     \n",
       "3                                            2433262                     \n",
       "4                                            2433312                     "
      ]
     },
     "execution_count": 7,
     "metadata": {},
     "output_type": "execute_result"
    }
   ],
   "source": [
    "sept_07_2019_mta_data = pd.read_csv(\"http://web.mta.info/developers/data/nyct/turnstile/turnstile_190907.txt\")\n",
    "sept_14_2019_mta_data = pd.read_csv(\"http://web.mta.info/developers/data/nyct/turnstile/turnstile_190914.txt\")\n",
    "\n",
    "mta_data = pd.concat([sept_07_2019_mta_data, sept_14_2019_mta_data])\n",
    "\n",
    "mta_data.head(n=5)"
   ]
  },
  {
   "cell_type": "code",
   "execution_count": null,
   "metadata": {},
   "outputs": [],
   "source": []
  },
  {
   "cell_type": "code",
   "execution_count": null,
   "metadata": {},
   "outputs": [],
   "source": []
  },
  {
   "cell_type": "markdown",
   "metadata": {},
   "source": [
    "### Challenge 2"
   ]
  },
  {
   "cell_type": "code",
   "execution_count": 10,
   "metadata": {},
   "outputs": [],
   "source": [
    "df = pd.DataFrame(mta_data)"
   ]
  },
  {
   "cell_type": "code",
   "execution_count": 11,
   "metadata": {},
   "outputs": [
    {
     "data": {
      "text/plain": [
       "dtype('O')"
      ]
     },
     "execution_count": 11,
     "metadata": {},
     "output_type": "execute_result"
    }
   ],
   "source": [
    "df['DATE'].dtypes"
   ]
  },
  {
   "cell_type": "code",
   "execution_count": 12,
   "metadata": {},
   "outputs": [
    {
     "data": {
      "text/plain": [
       "dtype('O')"
      ]
     },
     "execution_count": 12,
     "metadata": {},
     "output_type": "execute_result"
    }
   ],
   "source": [
    "df['TIME'].dtypes"
   ]
  },
  {
   "cell_type": "markdown",
   "metadata": {},
   "source": [
    "above are string data types"
   ]
  },
  {
   "cell_type": "code",
   "execution_count": 13,
   "metadata": {},
   "outputs": [],
   "source": [
    "df[[\"DATE\", \"TIME\"]] = df[[\"DATE\", \"TIME\"]].apply(pd.to_datetime)"
   ]
  },
  {
   "cell_type": "code",
   "execution_count": 14,
   "metadata": {},
   "outputs": [
    {
     "data": {
      "text/plain": [
       "dtype('<M8[ns]')"
      ]
     },
     "execution_count": 14,
     "metadata": {},
     "output_type": "execute_result"
    }
   ],
   "source": [
    "df['DATE'].dtypes"
   ]
  },
  {
   "cell_type": "code",
   "execution_count": 15,
   "metadata": {},
   "outputs": [
    {
     "data": {
      "text/plain": [
       "dtype('<M8[ns]')"
      ]
     },
     "execution_count": 15,
     "metadata": {},
     "output_type": "execute_result"
    }
   ],
   "source": [
    "df['TIME'].dtypes"
   ]
  },
  {
   "cell_type": "markdown",
   "metadata": {},
   "source": [
    "above are now datetime data types"
   ]
  },
  {
   "cell_type": "code",
   "execution_count": 19,
   "metadata": {},
   "outputs": [
    {
     "data": {
      "text/html": [
       "<div>\n",
       "<style scoped>\n",
       "    .dataframe tbody tr th:only-of-type {\n",
       "        vertical-align: middle;\n",
       "    }\n",
       "\n",
       "    .dataframe tbody tr th {\n",
       "        vertical-align: top;\n",
       "    }\n",
       "\n",
       "    .dataframe thead th {\n",
       "        text-align: right;\n",
       "    }\n",
       "</style>\n",
       "<table border=\"1\" class=\"dataframe\">\n",
       "  <thead>\n",
       "    <tr style=\"text-align: right;\">\n",
       "      <th></th>\n",
       "      <th></th>\n",
       "      <th>C/A</th>\n",
       "      <th>UNIT</th>\n",
       "      <th>SCP</th>\n",
       "      <th>STATION</th>\n",
       "      <th>LINENAME</th>\n",
       "      <th>DIVISION</th>\n",
       "      <th>DATE</th>\n",
       "      <th>TIME</th>\n",
       "      <th>DESC</th>\n",
       "      <th>ENTRIES</th>\n",
       "      <th>EXITS</th>\n",
       "    </tr>\n",
       "    <tr>\n",
       "      <th>DATE</th>\n",
       "      <th>TIME</th>\n",
       "      <th></th>\n",
       "      <th></th>\n",
       "      <th></th>\n",
       "      <th></th>\n",
       "      <th></th>\n",
       "      <th></th>\n",
       "      <th></th>\n",
       "      <th></th>\n",
       "      <th></th>\n",
       "      <th></th>\n",
       "      <th></th>\n",
       "    </tr>\n",
       "  </thead>\n",
       "  <tbody>\n",
       "    <tr>\n",
       "      <th rowspan=\"5\" valign=\"top\">2019-08-31</th>\n",
       "      <th>2020-09-27 00:00:00</th>\n",
       "      <td>A002</td>\n",
       "      <td>R051</td>\n",
       "      <td>02-00-00</td>\n",
       "      <td>59 ST</td>\n",
       "      <td>NQR456W</td>\n",
       "      <td>BMT</td>\n",
       "      <td>2019-08-31</td>\n",
       "      <td>2020-09-27 00:00:00</td>\n",
       "      <td>REGULAR</td>\n",
       "      <td>7183242</td>\n",
       "      <td>2433142</td>\n",
       "    </tr>\n",
       "    <tr>\n",
       "      <th>2020-09-27 04:00:00</th>\n",
       "      <td>A002</td>\n",
       "      <td>R051</td>\n",
       "      <td>02-00-00</td>\n",
       "      <td>59 ST</td>\n",
       "      <td>NQR456W</td>\n",
       "      <td>BMT</td>\n",
       "      <td>2019-08-31</td>\n",
       "      <td>2020-09-27 04:00:00</td>\n",
       "      <td>REGULAR</td>\n",
       "      <td>7183258</td>\n",
       "      <td>2433149</td>\n",
       "    </tr>\n",
       "    <tr>\n",
       "      <th>2020-09-27 08:00:00</th>\n",
       "      <td>A002</td>\n",
       "      <td>R051</td>\n",
       "      <td>02-00-00</td>\n",
       "      <td>59 ST</td>\n",
       "      <td>NQR456W</td>\n",
       "      <td>BMT</td>\n",
       "      <td>2019-08-31</td>\n",
       "      <td>2020-09-27 08:00:00</td>\n",
       "      <td>REGULAR</td>\n",
       "      <td>7183278</td>\n",
       "      <td>2433176</td>\n",
       "    </tr>\n",
       "    <tr>\n",
       "      <th>2020-09-27 12:00:00</th>\n",
       "      <td>A002</td>\n",
       "      <td>R051</td>\n",
       "      <td>02-00-00</td>\n",
       "      <td>59 ST</td>\n",
       "      <td>NQR456W</td>\n",
       "      <td>BMT</td>\n",
       "      <td>2019-08-31</td>\n",
       "      <td>2020-09-27 12:00:00</td>\n",
       "      <td>REGULAR</td>\n",
       "      <td>7183393</td>\n",
       "      <td>2433262</td>\n",
       "    </tr>\n",
       "    <tr>\n",
       "      <th>2020-09-27 16:00:00</th>\n",
       "      <td>A002</td>\n",
       "      <td>R051</td>\n",
       "      <td>02-00-00</td>\n",
       "      <td>59 ST</td>\n",
       "      <td>NQR456W</td>\n",
       "      <td>BMT</td>\n",
       "      <td>2019-08-31</td>\n",
       "      <td>2020-09-27 16:00:00</td>\n",
       "      <td>REGULAR</td>\n",
       "      <td>7183572</td>\n",
       "      <td>2433312</td>\n",
       "    </tr>\n",
       "    <tr>\n",
       "      <th>...</th>\n",
       "      <th>...</th>\n",
       "      <td>...</td>\n",
       "      <td>...</td>\n",
       "      <td>...</td>\n",
       "      <td>...</td>\n",
       "      <td>...</td>\n",
       "      <td>...</td>\n",
       "      <td>...</td>\n",
       "      <td>...</td>\n",
       "      <td>...</td>\n",
       "      <td>...</td>\n",
       "      <td>...</td>\n",
       "    </tr>\n",
       "    <tr>\n",
       "      <th rowspan=\"5\" valign=\"top\">2019-09-13</th>\n",
       "      <th>2020-09-27 05:00:00</th>\n",
       "      <td>TRAM2</td>\n",
       "      <td>R469</td>\n",
       "      <td>00-05-01</td>\n",
       "      <td>RIT-ROOSEVELT</td>\n",
       "      <td>R</td>\n",
       "      <td>RIT</td>\n",
       "      <td>2019-09-13</td>\n",
       "      <td>2020-09-27 05:00:00</td>\n",
       "      <td>REGULAR</td>\n",
       "      <td>5554</td>\n",
       "      <td>420</td>\n",
       "    </tr>\n",
       "    <tr>\n",
       "      <th>2020-09-27 09:00:00</th>\n",
       "      <td>TRAM2</td>\n",
       "      <td>R469</td>\n",
       "      <td>00-05-01</td>\n",
       "      <td>RIT-ROOSEVELT</td>\n",
       "      <td>R</td>\n",
       "      <td>RIT</td>\n",
       "      <td>2019-09-13</td>\n",
       "      <td>2020-09-27 09:00:00</td>\n",
       "      <td>REGULAR</td>\n",
       "      <td>5554</td>\n",
       "      <td>420</td>\n",
       "    </tr>\n",
       "    <tr>\n",
       "      <th>2020-09-27 13:00:00</th>\n",
       "      <td>TRAM2</td>\n",
       "      <td>R469</td>\n",
       "      <td>00-05-01</td>\n",
       "      <td>RIT-ROOSEVELT</td>\n",
       "      <td>R</td>\n",
       "      <td>RIT</td>\n",
       "      <td>2019-09-13</td>\n",
       "      <td>2020-09-27 13:00:00</td>\n",
       "      <td>REGULAR</td>\n",
       "      <td>5554</td>\n",
       "      <td>420</td>\n",
       "    </tr>\n",
       "    <tr>\n",
       "      <th>2020-09-27 17:00:00</th>\n",
       "      <td>TRAM2</td>\n",
       "      <td>R469</td>\n",
       "      <td>00-05-01</td>\n",
       "      <td>RIT-ROOSEVELT</td>\n",
       "      <td>R</td>\n",
       "      <td>RIT</td>\n",
       "      <td>2019-09-13</td>\n",
       "      <td>2020-09-27 17:00:00</td>\n",
       "      <td>REGULAR</td>\n",
       "      <td>5554</td>\n",
       "      <td>420</td>\n",
       "    </tr>\n",
       "    <tr>\n",
       "      <th>2020-09-27 21:00:00</th>\n",
       "      <td>TRAM2</td>\n",
       "      <td>R469</td>\n",
       "      <td>00-05-01</td>\n",
       "      <td>RIT-ROOSEVELT</td>\n",
       "      <td>R</td>\n",
       "      <td>RIT</td>\n",
       "      <td>2019-09-13</td>\n",
       "      <td>2020-09-27 21:00:00</td>\n",
       "      <td>REGULAR</td>\n",
       "      <td>5554</td>\n",
       "      <td>420</td>\n",
       "    </tr>\n",
       "  </tbody>\n",
       "</table>\n",
       "<p>410380 rows × 11 columns</p>\n",
       "</div>"
      ],
      "text/plain": [
       "                                  C/A  UNIT       SCP        STATION LINENAME  \\\n",
       "DATE       TIME                                                                 \n",
       "2019-08-31 2020-09-27 00:00:00   A002  R051  02-00-00          59 ST  NQR456W   \n",
       "           2020-09-27 04:00:00   A002  R051  02-00-00          59 ST  NQR456W   \n",
       "           2020-09-27 08:00:00   A002  R051  02-00-00          59 ST  NQR456W   \n",
       "           2020-09-27 12:00:00   A002  R051  02-00-00          59 ST  NQR456W   \n",
       "           2020-09-27 16:00:00   A002  R051  02-00-00          59 ST  NQR456W   \n",
       "...                               ...   ...       ...            ...      ...   \n",
       "2019-09-13 2020-09-27 05:00:00  TRAM2  R469  00-05-01  RIT-ROOSEVELT        R   \n",
       "           2020-09-27 09:00:00  TRAM2  R469  00-05-01  RIT-ROOSEVELT        R   \n",
       "           2020-09-27 13:00:00  TRAM2  R469  00-05-01  RIT-ROOSEVELT        R   \n",
       "           2020-09-27 17:00:00  TRAM2  R469  00-05-01  RIT-ROOSEVELT        R   \n",
       "           2020-09-27 21:00:00  TRAM2  R469  00-05-01  RIT-ROOSEVELT        R   \n",
       "\n",
       "                               DIVISION       DATE                TIME  \\\n",
       "DATE       TIME                                                          \n",
       "2019-08-31 2020-09-27 00:00:00      BMT 2019-08-31 2020-09-27 00:00:00   \n",
       "           2020-09-27 04:00:00      BMT 2019-08-31 2020-09-27 04:00:00   \n",
       "           2020-09-27 08:00:00      BMT 2019-08-31 2020-09-27 08:00:00   \n",
       "           2020-09-27 12:00:00      BMT 2019-08-31 2020-09-27 12:00:00   \n",
       "           2020-09-27 16:00:00      BMT 2019-08-31 2020-09-27 16:00:00   \n",
       "...                                 ...        ...                 ...   \n",
       "2019-09-13 2020-09-27 05:00:00      RIT 2019-09-13 2020-09-27 05:00:00   \n",
       "           2020-09-27 09:00:00      RIT 2019-09-13 2020-09-27 09:00:00   \n",
       "           2020-09-27 13:00:00      RIT 2019-09-13 2020-09-27 13:00:00   \n",
       "           2020-09-27 17:00:00      RIT 2019-09-13 2020-09-27 17:00:00   \n",
       "           2020-09-27 21:00:00      RIT 2019-09-13 2020-09-27 21:00:00   \n",
       "\n",
       "                                   DESC  ENTRIES  \\\n",
       "DATE       TIME                                    \n",
       "2019-08-31 2020-09-27 00:00:00  REGULAR  7183242   \n",
       "           2020-09-27 04:00:00  REGULAR  7183258   \n",
       "           2020-09-27 08:00:00  REGULAR  7183278   \n",
       "           2020-09-27 12:00:00  REGULAR  7183393   \n",
       "           2020-09-27 16:00:00  REGULAR  7183572   \n",
       "...                                 ...      ...   \n",
       "2019-09-13 2020-09-27 05:00:00  REGULAR     5554   \n",
       "           2020-09-27 09:00:00  REGULAR     5554   \n",
       "           2020-09-27 13:00:00  REGULAR     5554   \n",
       "           2020-09-27 17:00:00  REGULAR     5554   \n",
       "           2020-09-27 21:00:00  REGULAR     5554   \n",
       "\n",
       "                                EXITS                                                                 \n",
       "DATE       TIME                                                                                       \n",
       "2019-08-31 2020-09-27 00:00:00                                            2433142                     \n",
       "           2020-09-27 04:00:00                                            2433149                     \n",
       "           2020-09-27 08:00:00                                            2433176                     \n",
       "           2020-09-27 12:00:00                                            2433262                     \n",
       "           2020-09-27 16:00:00                                            2433312                     \n",
       "...                                                                           ...                     \n",
       "2019-09-13 2020-09-27 05:00:00                                                420                     \n",
       "           2020-09-27 09:00:00                                                420                     \n",
       "           2020-09-27 13:00:00                                                420                     \n",
       "           2020-09-27 17:00:00                                                420                     \n",
       "           2020-09-27 21:00:00                                                420                     \n",
       "\n",
       "[410380 rows x 11 columns]"
      ]
     },
     "execution_count": 19,
     "metadata": {},
     "output_type": "execute_result"
    }
   ],
   "source": [
    "df.set_index(['DATE','TIME'], drop=False)"
   ]
  },
  {
   "cell_type": "markdown",
   "metadata": {},
   "source": [
    "### Challenge 3"
   ]
  },
  {
   "cell_type": "code",
   "execution_count": 24,
   "metadata": {},
   "outputs": [],
   "source": [
    "# Challenge 3\n",
    "# + Each row is a turnstile, identified by a combination of the \n",
    "#   C/A, UNIT, SCP, and STATION columns, with information on entries \n",
    "#   and exits at that turnstile every n hours. \n",
    "#   (What is n?) We want total daily entries.\n",
    "#   + Group the data so that it represents daily entries \n",
    "#   for each turnstile (hint: pd.groupby or DataFrame.groupby)\n",
    "\n",
    "dailyEntriesByTurnstile = df.groupby(['C/A', 'UNIT', 'SCP', 'STATION', 'DATE']).sum()['ENTRIES']\n"
   ]
  },
  {
   "cell_type": "code",
   "execution_count": 25,
   "metadata": {},
   "outputs": [
    {
     "data": {
      "text/plain": [
       "C/A    UNIT  SCP       STATION        DATE      \n",
       "A002   R051  02-00-00  59 ST          2019-08-31    43100585\n",
       "                                      2019-09-01    43105116\n",
       "                                      2019-09-02    43108835\n",
       "                                      2019-09-03    43113279\n",
       "                                      2019-09-04    43120999\n",
       "                                                      ...   \n",
       "TRAM2  R469  00-05-01  RIT-ROOSEVELT  2019-09-09       33324\n",
       "                                      2019-09-10       33324\n",
       "                                      2019-09-11       33324\n",
       "                                      2019-09-12       33324\n",
       "                                      2019-09-13       33324\n",
       "Name: ENTRIES, Length: 68381, dtype: int64"
      ]
     },
     "execution_count": 25,
     "metadata": {},
     "output_type": "execute_result"
    }
   ],
   "source": [
    "dailyEntriesByTurnstile"
   ]
  },
  {
   "cell_type": "markdown",
   "metadata": {},
   "source": [
    "### Challenge 4"
   ]
  },
  {
   "cell_type": "code",
   "execution_count": 26,
   "metadata": {},
   "outputs": [],
   "source": [
    "# Challenge 4\n",
    "# + We will plot the daily time series for a single turnstile."
   ]
  },
  {
   "cell_type": "code",
   "execution_count": 31,
   "metadata": {},
   "outputs": [
    {
     "name": "stdout",
     "output_type": "stream",
     "text": [
      "('B018', 'R184', '00-00-00', 'CORTELYOU RD')\n"
     ]
    }
   ],
   "source": [
    "# get a single turnstile\n",
    "fivethouTurnStileIndex = dailyEntriesByTurnstile.index[5000][0:-1]\n",
    "print(fivethouTurnStileIndex)"
   ]
  },
  {
   "cell_type": "code",
   "execution_count": 44,
   "metadata": {},
   "outputs": [
    {
     "data": {
      "text/plain": [
       "<AxesSubplot:xlabel='DATE'>"
      ]
     },
     "execution_count": 44,
     "metadata": {},
     "output_type": "execute_result"
    },
    {
     "data": {
      "image/png": "[encoded data removed]",
      "text/plain": [
       "<Figure size 720x216 with 1 Axes>"
      ]
     },
     "metadata": {
      "needs_background": "light"
     },
     "output_type": "display_data"
    }
   ],
   "source": [
    "%matplotlib inline\n",
    "import matplotlib.pyplot as plt\n",
    "plt.figure(figsize=(10,3))\n",
    "dailyEntriesByTurnstile[fivethouTurnStileIndex].plot()"
   ]
  },
  {
   "cell_type": "markdown",
   "metadata": {},
   "source": [
    "### Challenge 5"
   ]
  },
  {
   "cell_type": "code",
   "execution_count": 45,
   "metadata": {},
   "outputs": [],
   "source": [
    "# Challenge 5\n",
    "# + So far we've been operating on a single turnstile level, let's combine\n",
    "#   turnstiles in the same ControlArea/Unit/Station combo. There are some \n",
    "#   ControlArea/Unit/Station groups that have a single turnstile, but most\n",
    "#   have multiple turnstiles-- same value for the C/A, UNIT and STATION\n",
    "#   columns, different values for the SCP column.\n",
    "# + We want to combine the numbers together -- for each \n",
    "#   ControlArea/UNIT/STATION combo, for each day, sum the counts from each\n",
    "#   turnstile belonging to that combo. (hint: pd.groupby)"
   ]
  },
  {
   "cell_type": "code",
   "execution_count": 46,
   "metadata": {},
   "outputs": [],
   "source": [
    "dailyEntriesByCaUnitStation = df.groupby(['C/A','UNIT','STATION','DATE']).sum()['ENTRIES']"
   ]
  },
  {
   "cell_type": "code",
   "execution_count": 49,
   "metadata": {},
   "outputs": [
    {
     "data": {
      "text/plain": [
       "C/A    UNIT  STATION        DATE      \n",
       "A002   R051  59 ST          2019-08-31    337478073\n",
       "                            2019-09-01    337522544\n",
       "                            2019-09-02    337562052\n",
       "                            2019-09-03    337607485\n",
       "                            2019-09-04    337679961\n",
       "                                            ...    \n",
       "TRAM2  R469  RIT-ROOSEVELT  2019-09-09     44109217\n",
       "                            2019-09-10     44130035\n",
       "                            2019-09-11     44151193\n",
       "                            2019-09-12     44171618\n",
       "                            2019-09-13     44191131\n",
       "Name: ENTRIES, Length: 10437, dtype: int64"
      ]
     },
     "execution_count": 49,
     "metadata": {},
     "output_type": "execute_result"
    }
   ],
   "source": [
    "dailyEntriesByCaUnitStation"
   ]
  },
  {
   "cell_type": "markdown",
   "metadata": {},
   "source": [
    "### Challenge 6"
   ]
  },
  {
   "cell_type": "code",
   "execution_count": null,
   "metadata": {},
   "outputs": [],
   "source": [
    "# Challenge 6\n",
    "# + Similarly, combine everything in each station, and come up with daily\n",
    "#   time series for each STATION, by adding up all the turnstiles in a\n",
    "#   station."
   ]
  },
  {
   "cell_type": "code",
   "execution_count": 51,
   "metadata": {},
   "outputs": [],
   "source": [
    "dailyEntriesByStation = df.groupby(['STATION','DATE']).sum()['ENTRIES']"
   ]
  },
  {
   "cell_type": "code",
   "execution_count": 52,
   "metadata": {},
   "outputs": [
    {
     "data": {
      "text/plain": [
       "STATION    DATE      \n",
       "1 AV       2019-08-31    8490618095\n",
       "           2019-09-01    8490646358\n",
       "           2019-09-02    8490670612\n",
       "           2019-09-03    8490715696\n",
       "           2019-09-04    8490811676\n",
       "                            ...    \n",
       "ZEREGA AV  2019-09-09      12546455\n",
       "           2019-09-10      12564563\n",
       "           2019-09-11      12582722\n",
       "           2019-09-12      12600571\n",
       "           2019-09-13      12617829\n",
       "Name: ENTRIES, Length: 5292, dtype: int64"
      ]
     },
     "execution_count": 52,
     "metadata": {},
     "output_type": "execute_result"
    }
   ],
   "source": [
    "dailyEntriesByStation"
   ]
  },
  {
   "cell_type": "markdown",
   "metadata": {},
   "source": [
    "### Challenge 7"
   ]
  },
  {
   "cell_type": "code",
   "execution_count": null,
   "metadata": {},
   "outputs": [],
   "source": [
    "# Challenge 7\n",
    "# + Plot the daily time series for a station."
   ]
  },
  {
   "cell_type": "code",
   "execution_count": 54,
   "metadata": {},
   "outputs": [],
   "source": [
    "#get a single turnstile\n",
    "twothouStationIndex = dailyEntriesByStation.index[2000][0:-1]"
   ]
  },
  {
   "cell_type": "code",
   "execution_count": 55,
   "metadata": {},
   "outputs": [
    {
     "data": {
      "text/plain": [
       "('BEACH 36 ST',)"
      ]
     },
     "execution_count": 55,
     "metadata": {},
     "output_type": "execute_result"
    }
   ],
   "source": [
    "twothouStationIndex"
   ]
  },
  {
   "cell_type": "code",
   "execution_count": 56,
   "metadata": {},
   "outputs": [
    {
     "data": {
      "text/plain": [
       "<AxesSubplot:xlabel='DATE'>"
      ]
     },
     "execution_count": 56,
     "metadata": {},
     "output_type": "execute_result"
    },
    {
     "data": {
      "image/png": "[encoded data removed]",
      "text/plain": [
       "<Figure size 432x288 with 1 Axes>"
      ]
     },
     "metadata": {
      "needs_background": "light"
     },
     "output_type": "display_data"
    }
   ],
   "source": [
    "dailyEntriesByStation[twothouStationIndex].plot()"
   ]
  },
  {
   "cell_type": "markdown",
   "metadata": {},
   "source": [
    "### Challenge 8"
   ]
  },
  {
   "cell_type": "code",
   "execution_count": null,
   "metadata": {},
   "outputs": [],
   "source": [
    "# Challenge 8\n",
    "# + Make one list of counts for one week for one station. Monday's count,\n",
    "#   Tuesday's count, etc. so it's a list of 7 counts. Make the same list\n",
    "#   for another week, and another week, and another week. \n",
    "#   (hint: pandas datetime day of week may be useful)"
   ]
  },
  {
   "cell_type": "code",
   "execution_count": 57,
   "metadata": {},
   "outputs": [],
   "source": [
    "df['WEEK'] = df['DATE'].dt.isocalendar().week"
   ]
  },
  {
   "cell_type": "code",
   "execution_count": 59,
   "metadata": {},
   "outputs": [],
   "source": [
    "dailyEntriesByWeekStation = df.groupby(['STATION','WEEK']).sum()['ENTRIES']"
   ]
  },
  {
   "cell_type": "code",
   "execution_count": 61,
   "metadata": {},
   "outputs": [
    {
     "data": {
      "text/plain": [
       "STATION    WEEK\n",
       "1 AV       35      16981264453\n",
       "           36      59436430352\n",
       "           37      42457201536\n",
       "103 ST     35       1720076468\n",
       "           36       6072468221\n",
       "                      ...     \n",
       "YORK ST    36       1832371492\n",
       "           37       1310977573\n",
       "ZEREGA AV  35         24903766\n",
       "           36         87488149\n",
       "           37         62912140\n",
       "Name: ENTRIES, Length: 1134, dtype: int64"
      ]
     },
     "execution_count": 61,
     "metadata": {},
     "output_type": "execute_result"
    }
   ],
   "source": [
    "dailyEntriesByWeekStation"
   ]
  },
  {
   "cell_type": "code",
   "execution_count": 62,
   "metadata": {},
   "outputs": [
    {
     "data": {
      "text/plain": [
       "WEEK\n",
       "35     60283135\n",
       "36    211139492\n",
       "37    150959082\n",
       "Name: ENTRIES, dtype: int64"
      ]
     },
     "execution_count": 62,
     "metadata": {},
     "output_type": "execute_result"
    }
   ],
   "source": [
    "dailyEntriesByWeekStation[twothouStationIndex]"
   ]
  },
  {
   "cell_type": "markdown",
   "metadata": {},
   "source": [
    "### Challenge 9"
   ]
  },
  {
   "cell_type": "code",
   "execution_count": 63,
   "metadata": {},
   "outputs": [],
   "source": [
    "# Challenge 9\n",
    "# + Over multiple weeks, sum total ridership for each station and sort\n",
    "#   them, so you can find out the stations with the highest traffic \n",
    "#   during the time you investigate"
   ]
  },
  {
   "cell_type": "code",
   "execution_count": 64,
   "metadata": {},
   "outputs": [
    {
     "data": {
      "text/plain": [
       "STATION          WEEK\n",
       "42 ST-PORT AUTH  36      315869193415\n",
       "125 ST           36      291460285647\n",
       "TIMES SQ-42 ST   36      244926296786\n",
       "23 ST            36      239672270631\n",
       "DEKALB AV        36      226890112755\n",
       "                             ...     \n",
       "NEWARK HW BMEBE  35           3827734\n",
       "PATH WTC 2       35           1710943\n",
       "NEWARK HM HE     36           1032047\n",
       "                 37            692782\n",
       "                 35            300640\n",
       "Name: ENTRIES, Length: 1134, dtype: int64"
      ]
     },
     "execution_count": 64,
     "metadata": {},
     "output_type": "execute_result"
    }
   ],
   "source": [
    "dailyEntriesByWeekStation.sort_values(ascending=False)"
   ]
  },
  {
   "cell_type": "code",
   "execution_count": 65,
   "metadata": {},
   "outputs": [
    {
     "data": {
      "text/plain": [
       "'42 ST-PORT AUTH'"
      ]
     },
     "execution_count": 65,
     "metadata": {},
     "output_type": "execute_result"
    }
   ],
   "source": [
    "dailyEntriesByWeekStation.sort_values(ascending=False).index[0][0]"
   ]
  },
  {
   "cell_type": "markdown",
   "metadata": {},
   "source": [
    "### Challenge 10"
   ]
  },
  {
   "cell_type": "code",
   "execution_count": null,
   "metadata": {},
   "outputs": [],
   "source": [
    "# Challenge 10\n",
    "# + Make a single list of these total ridership values and plot it with \n",
    "#   plt.hist(total_ridership_counts)"
   ]
  },
  {
   "cell_type": "code",
   "execution_count": 66,
   "metadata": {},
   "outputs": [
    {
     "data": {
      "text/plain": [
       "<AxesSubplot:>"
      ]
     },
     "execution_count": 66,
     "metadata": {},
     "output_type": "execute_result"
    },
    {
     "data": {
      "image/png": "[encoded data removed]",
      "text/plain": [
       "<Figure size 432x288 with 1 Axes>"
      ]
     },
     "metadata": {
      "needs_background": "light"
     },
     "output_type": "display_data"
    }
   ],
   "source": [
    "dailyEntriesByWeekStation.hist()"
   ]
  },
  {
   "cell_type": "code",
   "execution_count": null,
   "metadata": {},
   "outputs": [],
   "source": []
  },
  {
   "cell_type": "code",
   "execution_count": null,
   "metadata": {},
   "outputs": [],
   "source": []
  },
  {
   "cell_type": "code",
   "execution_count": null,
   "metadata": {},
   "outputs": [],
   "source": []
  },
  {
   "cell_type": "code",
   "execution_count": null,
   "metadata": {},
   "outputs": [],
   "source": []
  }
 ],
 "metadata": {
  "kernelspec": {
   "display_name": "Python 3",
   "language": "python",
   "name": "python3"
  },
  "language_info": {
   "codemirror_mode": {
    "name": "ipython",
    "version": 3
   },
   "file_extension": ".py",
   "mimetype": "text/x-python",
   "name": "python",
   "nbconvert_exporter": "python",
   "pygments_lexer": "ipython3",
   "version": "3.8.5"
  }
 },
 "nbformat": 4,
 "nbformat_minor": 1
}
