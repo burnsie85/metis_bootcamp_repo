{
 "cells": [
  {
   "cell_type": "markdown",
   "metadata": {},
   "source": [
    "# Solution for LASSO Students"
   ]
  },
  {
   "cell_type": "code",
   "execution_count": 2,
   "metadata": {},
   "outputs": [],
   "source": [
    "\"\"\"\n",
    ">>> pairs_for(['Andrea', 'Bob', 'Cassandra', 'Doug'])\n",
    "# [[('Bob', 'Cassandra'), ('Andrea', 'Doug')],\n",
    "#  [('Andrea', 'Bob'), ('Cassandra', 'Doug')],\n",
    "#  [('Andrea', 'Cassandra'), ('Bob', 'Doug')]]\n",
    "\"\"\"\n",
    "\n",
    "\n",
    "def pairs_for(names):\n",
    "    n = len(names)\n",
    "    \n",
    "    # Need an even number of students, otherwise, we'll have a \"need-to-assign\" person\n",
    "    assert n % 2 == 0\n",
    "    \n",
    "    result = []\n",
    "    first = names[:n // 2]\n",
    "    second = names[n // 2:]\n",
    "    \n",
    "    # Everyone needs to be able to meet with everyone else (n - 1)\n",
    "    for _ in range(n - 1):\n",
    "        second.append(first.pop())\n",
    "        first.insert(1, second.pop(0))\n",
    "        result.append(list(zip(first, second)))\n",
    "        \n",
    "    return result"
   ]
  },
  {
   "cell_type": "code",
   "execution_count": 3,
   "metadata": {},
   "outputs": [],
   "source": [
    "students = '''Navish Agarwal\n",
    "Andrew Auyeung\n",
    "Ganesh Bala\n",
    "Zachary Brandt\n",
    "James Burns\n",
    "Natarajan Chandrakumar\n",
    "Natalie Chen\n",
    "Jonathan Cosme\n",
    "Joseph Cowell\n",
    "Timothy Dooley\n",
    "Mason Ellard\n",
    "Max Gebhard\n",
    "Zachary Greenberg\n",
    "Drew Hibbard\n",
    "Sunna Jo\n",
    "Gavin Jones\n",
    "Taeuk Kim\n",
    "Ian Livingston\n",
    "Bao Nguyen\n",
    "Trisha Oiullette\n",
    "J Brendan Patty\n",
    "Meehir Pathare\n",
    "Jason Pizzollo\n",
    "Julia Qiao\n",
    "Syed Razvi\n",
    "Peter Scagnelli\n",
    "Zachary Schaeffer\n",
    "Lucie Schnitzer\n",
    "Lewis Sears\n",
    "Rami Subramaniam\n",
    "Jennifer Sun\n",
    "Anthony Tagliente\n",
    "Viincent Thompson\n",
    "Sibongile Toure\n",
    "Collins Westnedge\n",
    "Nick Wilders'''\n",
    "\n",
    "# Turn this into a list\n",
    "students = students.split('\\n')"
   ]
  },
  {
   "cell_type": "code",
   "execution_count": 5,
   "metadata": {},
   "outputs": [
    {
     "data": {
      "text/plain": [
       "['Navish Agarwal', 'Andrew Auyeung', 'Ganesh Bala']"
      ]
     },
     "execution_count": 5,
     "metadata": {},
     "output_type": "execute_result"
    }
   ],
   "source": [
    "students[:3]"
   ]
  },
  {
   "cell_type": "code",
   "execution_count": 6,
   "metadata": {},
   "outputs": [],
   "source": [
    "daily_pairs = pairs_for(students)"
   ]
  },
  {
   "cell_type": "code",
   "execution_count": 7,
   "metadata": {},
   "outputs": [
    {
     "data": {
      "text/plain": [
       "35"
      ]
     },
     "execution_count": 7,
     "metadata": {},
     "output_type": "execute_result"
    }
   ],
   "source": [
    "len(daily_pairs)"
   ]
  },
  {
   "cell_type": "code",
   "execution_count": 8,
   "metadata": {},
   "outputs": [
    {
     "data": {
      "text/plain": [
       "[('Navish Agarwal', 'Trisha Oiullette'),\n",
       " ('Bao Nguyen', 'J Brendan Patty'),\n",
       " ('Andrew Auyeung', 'Meehir Pathare'),\n",
       " ('Ganesh Bala', 'Jason Pizzollo'),\n",
       " ('Zachary Brandt', 'Julia Qiao'),\n",
       " ('James Burns', 'Syed Razvi'),\n",
       " ('Natarajan Chandrakumar', 'Peter Scagnelli'),\n",
       " ('Natalie Chen', 'Zachary Schaeffer'),\n",
       " ('Jonathan Cosme', 'Lucie Schnitzer'),\n",
       " ('Joseph Cowell', 'Lewis Sears'),\n",
       " ('Timothy Dooley', 'Rami Subramaniam'),\n",
       " ('Mason Ellard', 'Jennifer Sun'),\n",
       " ('Max Gebhard', 'Anthony Tagliente'),\n",
       " ('Zachary Greenberg', 'Viincent Thompson'),\n",
       " ('Drew Hibbard', 'Sibongile Toure'),\n",
       " ('Sunna Jo', 'Collins Westnedge'),\n",
       " ('Gavin Jones', 'Nick Wilders'),\n",
       " ('Taeuk Kim', 'Ian Livingston')]"
      ]
     },
     "execution_count": 8,
     "metadata": {},
     "output_type": "execute_result"
    }
   ],
   "source": [
    "daily_pairs[0]"
   ]
  },
  {
   "cell_type": "markdown",
   "metadata": {},
   "source": [
    "### [More magic tips](https://stackoverflow.com/questions/21034373/how-to-load-edit-run-save-text-files-py-into-an-ipython-notebook-cell)"
   ]
  },
  {
   "cell_type": "code",
   "execution_count": null,
   "metadata": {},
   "outputs": [],
   "source": [
    "# to output results from a .py file into a cell\n",
    "# %run pair_demo.py"
   ]
  },
  {
   "cell_type": "code",
   "execution_count": null,
   "metadata": {},
   "outputs": [],
   "source": [
    "# to load a .py file into a cell\n",
    "#%load pair_demo.py"
   ]
  },
  {
   "cell_type": "code",
   "execution_count": null,
   "metadata": {},
   "outputs": [],
   "source": [
    "%lsmagic"
   ]
  },
  {
   "cell_type": "code",
   "execution_count": null,
   "metadata": {},
   "outputs": [],
   "source": []
  }
 ],
 "metadata": {
  "kernelspec": {
   "display_name": "Python 3",
   "language": "python",
   "name": "python3"
  },
  "language_info": {
   "codemirror_mode": {
    "name": "ipython",
    "version": 3
   },
   "file_extension": ".py",
   "mimetype": "text/x-python",
   "name": "python",
   "nbconvert_exporter": "python",
   "pygments_lexer": "ipython3",
   "version": "3.7.7"
  }
 },
 "nbformat": 4,
 "nbformat_minor": 4
}
