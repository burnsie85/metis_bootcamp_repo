{
 "cells": [
  {
   "cell_type": "markdown",
   "metadata": {},
   "source": [
    "# Solution for Ridge Students"
   ]
  },
  {
   "cell_type": "code",
   "execution_count": 1,
   "metadata": {},
   "outputs": [],
   "source": [
    "\"\"\"\n",
    ">>> pairs_for(['Andrea', 'Bob', 'Cassandra', 'Doug'])\n",
    "# [[('Bob', 'Cassandra'), ('Andrea', 'Doug')],\n",
    "#  [('Andrea', 'Bob'), ('Cassandra', 'Doug')],\n",
    "#  [('Andrea', 'Cassandra'), ('Bob', 'Doug')]]\n",
    "\"\"\"\n",
    "\n",
    "\n",
    "def pairs_for(names):\n",
    "    n = len(names)\n",
    "    \n",
    "    # Need an even number of students, otherwise, we'll have a \"need-to-assign\" person\n",
    "    assert n % 2 == 0\n",
    "    \n",
    "    result = []\n",
    "    first = names[:n // 2]\n",
    "    second = names[n // 2:]\n",
    "    \n",
    "    # Everyone needs to be able to meet with everyone else (n - 1)\n",
    "    for _ in range(n - 1):\n",
    "        second.append(first.pop())\n",
    "        first.insert(1, second.pop(0))\n",
    "        result.append(list(zip(first, second)))\n",
    "        \n",
    "    return result"
   ]
  },
  {
   "cell_type": "code",
   "execution_count": 2,
   "metadata": {},
   "outputs": [],
   "source": [
    "students = '''Lucy Abbot\n",
    "Ridwan Alam\n",
    "Bethany Baumann\n",
    "Amanda Cheney\n",
    "Julian Cheng\n",
    "Chris Doenlen\n",
    "Marcos Dominguez\n",
    "Michael Green\n",
    "Vanessa Hu\n",
    "Noah Jaffe\n",
    "Solomon Klein\n",
    "Albert Lee\n",
    "Ryan Lewis\n",
    "Christine Lloyd\n",
    "Julia Nguyen\n",
    "Gurunadh Parinandi\n",
    "Jaeseok Park\n",
    "Peter Prudhomme\n",
    "Rahul Raju\n",
    "Matt Ranalletta\n",
    "Neda Saleem\n",
    "Srividya Sistla\n",
    "Andrew Sweeney\n",
    "Brian Tam\n",
    "Laura Urdapilleta\n",
    "Ryan Werth\n",
    "Barrett Williams\n",
    "Tara Ziegler'''\n",
    "\n",
    "# Turn this into a list\n",
    "students = students.split('\\n')"
   ]
  },
  {
   "cell_type": "code",
   "execution_count": 3,
   "metadata": {},
   "outputs": [
    {
     "data": {
      "text/plain": [
       "['Lucy Abbot', 'Ridwan Alam', 'Bethany Baumann']"
      ]
     },
     "execution_count": 3,
     "metadata": {},
     "output_type": "execute_result"
    }
   ],
   "source": [
    "students[:3]"
   ]
  },
  {
   "cell_type": "code",
   "execution_count": 4,
   "metadata": {},
   "outputs": [],
   "source": [
    "daily_pairs = pairs_for(students)"
   ]
  },
  {
   "cell_type": "code",
   "execution_count": 5,
   "metadata": {},
   "outputs": [
    {
     "data": {
      "text/plain": [
       "27"
      ]
     },
     "execution_count": 5,
     "metadata": {},
     "output_type": "execute_result"
    }
   ],
   "source": [
    "len(daily_pairs)"
   ]
  },
  {
   "cell_type": "code",
   "execution_count": 6,
   "metadata": {},
   "outputs": [
    {
     "data": {
      "text/plain": [
       "[('Lucy Abbot', 'Gurunadh Parinandi'),\n",
       " ('Julia Nguyen', 'Jaeseok Park'),\n",
       " ('Ridwan Alam', 'Peter Prudhomme'),\n",
       " ('Bethany Baumann', 'Rahul Raju'),\n",
       " ('Amanda Cheney', 'Matt Ranalletta'),\n",
       " ('Julian Cheng', 'Neda Saleem'),\n",
       " ('Chris Doenlen', 'Srividya Sistla'),\n",
       " ('Marcos Dominguez', 'Andrew Sweeney'),\n",
       " ('Michael Green', 'Brian Tam'),\n",
       " ('Vanessa Hu', 'Laura Urdapilleta'),\n",
       " ('Noah Jaffe', 'Ryan Werth'),\n",
       " ('Solomon Klein', 'Barrett Williams'),\n",
       " ('Albert Lee', 'Tara Ziegler'),\n",
       " ('Ryan Lewis', 'Christine Lloyd')]"
      ]
     },
     "execution_count": 6,
     "metadata": {},
     "output_type": "execute_result"
    }
   ],
   "source": [
    "daily_pairs[0]"
   ]
  },
  {
   "cell_type": "markdown",
   "metadata": {},
   "source": [
    "### [More magic tips](https://stackoverflow.com/questions/21034373/how-to-load-edit-run-save-text-files-py-into-an-ipython-notebook-cell)"
   ]
  },
  {
   "cell_type": "code",
   "execution_count": null,
   "metadata": {},
   "outputs": [],
   "source": [
    "# to output results from a .py file into a cell\n",
    "# %run pair_demo.py"
   ]
  },
  {
   "cell_type": "code",
   "execution_count": null,
   "metadata": {},
   "outputs": [],
   "source": [
    "# to load a .py file into a cell\n",
    "#%load pair_demo.py"
   ]
  },
  {
   "cell_type": "code",
   "execution_count": null,
   "metadata": {},
   "outputs": [],
   "source": [
    "%lsmagic"
   ]
  },
  {
   "cell_type": "code",
   "execution_count": null,
   "metadata": {},
   "outputs": [],
   "source": []
  }
 ],
 "metadata": {
  "kernelspec": {
   "display_name": "Python 3",
   "language": "python",
   "name": "python3"
  },
  "language_info": {
   "codemirror_mode": {
    "name": "ipython",
    "version": 3
   },
   "file_extension": ".py",
   "mimetype": "text/x-python",
   "name": "python",
   "nbconvert_exporter": "python",
   "pygments_lexer": "ipython3",
   "version": "3.7.7"
  }
 },
 "nbformat": 4,
 "nbformat_minor": 4
}
